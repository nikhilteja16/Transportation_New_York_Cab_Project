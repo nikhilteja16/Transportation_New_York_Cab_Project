{
 "cells": [
  {
   "cell_type": "markdown",
   "id": "8c4a67c9",
   "metadata": {},
   "source": [
    "# NYC Cab Trip Duration Prediction"
   ]
  },
  {
   "cell_type": "markdown",
   "id": "3ae1b8f0",
   "metadata": {},
   "source": [
    "### Importing Necessary Libraries"
   ]
  },
  {
   "cell_type": "code",
   "execution_count": 1,
   "id": "fe11231b",
   "metadata": {},
   "outputs": [],
   "source": [
    "import pandas as pd\n",
    "import numpy as np\n",
    "import matplotlib.pyplot as plt\n",
    "import seaborn as sb\n",
    "from warnings import filterwarnings\n",
    "filterwarnings(\"ignore\")\n"
   ]
  },
  {
   "cell_type": "code",
   "execution_count": 2,
   "id": "7766e057",
   "metadata": {},
   "outputs": [
    {
     "ename": "FileNotFoundError",
     "evalue": "[Errno 2] No such file or directory: 'yellow_tripdata_2022-01.parquet'",
     "output_type": "error",
     "traceback": [
      "\u001b[1;31m---------------------------------------------------------------------------\u001b[0m",
      "\u001b[1;31mFileNotFoundError\u001b[0m                         Traceback (most recent call last)",
      "Input \u001b[1;32mIn [2]\u001b[0m, in \u001b[0;36m<cell line: 1>\u001b[1;34m()\u001b[0m\n\u001b[1;32m----> 1\u001b[0m df1\u001b[38;5;241m=\u001b[39m\u001b[43mpd\u001b[49m\u001b[38;5;241;43m.\u001b[39;49m\u001b[43mread_parquet\u001b[49m\u001b[43m(\u001b[49m\u001b[38;5;124;43m'\u001b[39;49m\u001b[38;5;124;43myellow_tripdata_2022-01.parquet\u001b[39;49m\u001b[38;5;124;43m'\u001b[39;49m\u001b[43m)\u001b[49m\n\u001b[0;32m      2\u001b[0m df2\u001b[38;5;241m=\u001b[39mpd\u001b[38;5;241m.\u001b[39mread_parquet(\u001b[38;5;124m'\u001b[39m\u001b[38;5;124myellow_tripdata_2022-02.parquet\u001b[39m\u001b[38;5;124m'\u001b[39m)\n\u001b[0;32m      3\u001b[0m df3\u001b[38;5;241m=\u001b[39mpd\u001b[38;5;241m.\u001b[39mread_parquet(\u001b[38;5;124m'\u001b[39m\u001b[38;5;124myellow_tripdata_2022-03.parquet\u001b[39m\u001b[38;5;124m'\u001b[39m)\n",
      "File \u001b[1;32m~\\anaconda3\\lib\\site-packages\\pandas\\io\\parquet.py:493\u001b[0m, in \u001b[0;36mread_parquet\u001b[1;34m(path, engine, columns, storage_options, use_nullable_dtypes, **kwargs)\u001b[0m\n\u001b[0;32m    446\u001b[0m \u001b[38;5;124;03m\"\"\"\u001b[39;00m\n\u001b[0;32m    447\u001b[0m \u001b[38;5;124;03mLoad a parquet object from the file path, returning a DataFrame.\u001b[39;00m\n\u001b[0;32m    448\u001b[0m \n\u001b[1;32m   (...)\u001b[0m\n\u001b[0;32m    489\u001b[0m \u001b[38;5;124;03mDataFrame\u001b[39;00m\n\u001b[0;32m    490\u001b[0m \u001b[38;5;124;03m\"\"\"\u001b[39;00m\n\u001b[0;32m    491\u001b[0m impl \u001b[38;5;241m=\u001b[39m get_engine(engine)\n\u001b[1;32m--> 493\u001b[0m \u001b[38;5;28;01mreturn\u001b[39;00m impl\u001b[38;5;241m.\u001b[39mread(\n\u001b[0;32m    494\u001b[0m     path,\n\u001b[0;32m    495\u001b[0m     columns\u001b[38;5;241m=\u001b[39mcolumns,\n\u001b[0;32m    496\u001b[0m     storage_options\u001b[38;5;241m=\u001b[39mstorage_options,\n\u001b[0;32m    497\u001b[0m     use_nullable_dtypes\u001b[38;5;241m=\u001b[39muse_nullable_dtypes,\n\u001b[0;32m    498\u001b[0m     \u001b[38;5;241m*\u001b[39m\u001b[38;5;241m*\u001b[39mkwargs,\n\u001b[0;32m    499\u001b[0m )\n",
      "File \u001b[1;32m~\\anaconda3\\lib\\site-packages\\pandas\\io\\parquet.py:233\u001b[0m, in \u001b[0;36mPyArrowImpl.read\u001b[1;34m(self, path, columns, use_nullable_dtypes, storage_options, **kwargs)\u001b[0m\n\u001b[0;32m    230\u001b[0m \u001b[38;5;28;01mif\u001b[39;00m manager \u001b[38;5;241m==\u001b[39m \u001b[38;5;124m\"\u001b[39m\u001b[38;5;124marray\u001b[39m\u001b[38;5;124m\"\u001b[39m:\n\u001b[0;32m    231\u001b[0m     to_pandas_kwargs[\u001b[38;5;124m\"\u001b[39m\u001b[38;5;124msplit_blocks\u001b[39m\u001b[38;5;124m\"\u001b[39m] \u001b[38;5;241m=\u001b[39m \u001b[38;5;28;01mTrue\u001b[39;00m  \u001b[38;5;66;03m# type: ignore[assignment]\u001b[39;00m\n\u001b[1;32m--> 233\u001b[0m path_or_handle, handles, kwargs[\u001b[38;5;124m\"\u001b[39m\u001b[38;5;124mfilesystem\u001b[39m\u001b[38;5;124m\"\u001b[39m] \u001b[38;5;241m=\u001b[39m \u001b[43m_get_path_or_handle\u001b[49m\u001b[43m(\u001b[49m\n\u001b[0;32m    234\u001b[0m \u001b[43m    \u001b[49m\u001b[43mpath\u001b[49m\u001b[43m,\u001b[49m\n\u001b[0;32m    235\u001b[0m \u001b[43m    \u001b[49m\u001b[43mkwargs\u001b[49m\u001b[38;5;241;43m.\u001b[39;49m\u001b[43mpop\u001b[49m\u001b[43m(\u001b[49m\u001b[38;5;124;43m\"\u001b[39;49m\u001b[38;5;124;43mfilesystem\u001b[39;49m\u001b[38;5;124;43m\"\u001b[39;49m\u001b[43m,\u001b[49m\u001b[43m \u001b[49m\u001b[38;5;28;43;01mNone\u001b[39;49;00m\u001b[43m)\u001b[49m\u001b[43m,\u001b[49m\n\u001b[0;32m    236\u001b[0m \u001b[43m    \u001b[49m\u001b[43mstorage_options\u001b[49m\u001b[38;5;241;43m=\u001b[39;49m\u001b[43mstorage_options\u001b[49m\u001b[43m,\u001b[49m\n\u001b[0;32m    237\u001b[0m \u001b[43m    \u001b[49m\u001b[43mmode\u001b[49m\u001b[38;5;241;43m=\u001b[39;49m\u001b[38;5;124;43m\"\u001b[39;49m\u001b[38;5;124;43mrb\u001b[39;49m\u001b[38;5;124;43m\"\u001b[39;49m\u001b[43m,\u001b[49m\n\u001b[0;32m    238\u001b[0m \u001b[43m\u001b[49m\u001b[43m)\u001b[49m\n\u001b[0;32m    239\u001b[0m \u001b[38;5;28;01mtry\u001b[39;00m:\n\u001b[0;32m    240\u001b[0m     result \u001b[38;5;241m=\u001b[39m \u001b[38;5;28mself\u001b[39m\u001b[38;5;241m.\u001b[39mapi\u001b[38;5;241m.\u001b[39mparquet\u001b[38;5;241m.\u001b[39mread_table(\n\u001b[0;32m    241\u001b[0m         path_or_handle, columns\u001b[38;5;241m=\u001b[39mcolumns, \u001b[38;5;241m*\u001b[39m\u001b[38;5;241m*\u001b[39mkwargs\n\u001b[0;32m    242\u001b[0m     )\u001b[38;5;241m.\u001b[39mto_pandas(\u001b[38;5;241m*\u001b[39m\u001b[38;5;241m*\u001b[39mto_pandas_kwargs)\n",
      "File \u001b[1;32m~\\anaconda3\\lib\\site-packages\\pandas\\io\\parquet.py:102\u001b[0m, in \u001b[0;36m_get_path_or_handle\u001b[1;34m(path, fs, storage_options, mode, is_dir)\u001b[0m\n\u001b[0;32m     92\u001b[0m handles \u001b[38;5;241m=\u001b[39m \u001b[38;5;28;01mNone\u001b[39;00m\n\u001b[0;32m     93\u001b[0m \u001b[38;5;28;01mif\u001b[39;00m (\n\u001b[0;32m     94\u001b[0m     \u001b[38;5;129;01mnot\u001b[39;00m fs\n\u001b[0;32m     95\u001b[0m     \u001b[38;5;129;01mand\u001b[39;00m \u001b[38;5;129;01mnot\u001b[39;00m is_dir\n\u001b[1;32m   (...)\u001b[0m\n\u001b[0;32m    100\u001b[0m     \u001b[38;5;66;03m# fsspec resources can also point to directories\u001b[39;00m\n\u001b[0;32m    101\u001b[0m     \u001b[38;5;66;03m# this branch is used for example when reading from non-fsspec URLs\u001b[39;00m\n\u001b[1;32m--> 102\u001b[0m     handles \u001b[38;5;241m=\u001b[39m \u001b[43mget_handle\u001b[49m\u001b[43m(\u001b[49m\n\u001b[0;32m    103\u001b[0m \u001b[43m        \u001b[49m\u001b[43mpath_or_handle\u001b[49m\u001b[43m,\u001b[49m\u001b[43m \u001b[49m\u001b[43mmode\u001b[49m\u001b[43m,\u001b[49m\u001b[43m \u001b[49m\u001b[43mis_text\u001b[49m\u001b[38;5;241;43m=\u001b[39;49m\u001b[38;5;28;43;01mFalse\u001b[39;49;00m\u001b[43m,\u001b[49m\u001b[43m \u001b[49m\u001b[43mstorage_options\u001b[49m\u001b[38;5;241;43m=\u001b[39;49m\u001b[43mstorage_options\u001b[49m\n\u001b[0;32m    104\u001b[0m \u001b[43m    \u001b[49m\u001b[43m)\u001b[49m\n\u001b[0;32m    105\u001b[0m     fs \u001b[38;5;241m=\u001b[39m \u001b[38;5;28;01mNone\u001b[39;00m\n\u001b[0;32m    106\u001b[0m     path_or_handle \u001b[38;5;241m=\u001b[39m handles\u001b[38;5;241m.\u001b[39mhandle\n",
      "File \u001b[1;32m~\\anaconda3\\lib\\site-packages\\pandas\\io\\common.py:798\u001b[0m, in \u001b[0;36mget_handle\u001b[1;34m(path_or_buf, mode, encoding, compression, memory_map, is_text, errors, storage_options)\u001b[0m\n\u001b[0;32m    789\u001b[0m         handle \u001b[38;5;241m=\u001b[39m \u001b[38;5;28mopen\u001b[39m(\n\u001b[0;32m    790\u001b[0m             handle,\n\u001b[0;32m    791\u001b[0m             ioargs\u001b[38;5;241m.\u001b[39mmode,\n\u001b[1;32m   (...)\u001b[0m\n\u001b[0;32m    794\u001b[0m             newline\u001b[38;5;241m=\u001b[39m\u001b[38;5;124m\"\u001b[39m\u001b[38;5;124m\"\u001b[39m,\n\u001b[0;32m    795\u001b[0m         )\n\u001b[0;32m    796\u001b[0m     \u001b[38;5;28;01melse\u001b[39;00m:\n\u001b[0;32m    797\u001b[0m         \u001b[38;5;66;03m# Binary mode\u001b[39;00m\n\u001b[1;32m--> 798\u001b[0m         handle \u001b[38;5;241m=\u001b[39m \u001b[38;5;28;43mopen\u001b[39;49m\u001b[43m(\u001b[49m\u001b[43mhandle\u001b[49m\u001b[43m,\u001b[49m\u001b[43m \u001b[49m\u001b[43mioargs\u001b[49m\u001b[38;5;241;43m.\u001b[39;49m\u001b[43mmode\u001b[49m\u001b[43m)\u001b[49m\n\u001b[0;32m    799\u001b[0m     handles\u001b[38;5;241m.\u001b[39mappend(handle)\n\u001b[0;32m    801\u001b[0m \u001b[38;5;66;03m# Convert BytesIO or file objects passed with an encoding\u001b[39;00m\n",
      "\u001b[1;31mFileNotFoundError\u001b[0m: [Errno 2] No such file or directory: 'yellow_tripdata_2022-01.parquet'"
     ]
    }
   ],
   "source": [
    "df1=pd.read_parquet('yellow_tripdata_2022-01.parquet')\n",
    "df2=pd.read_parquet('yellow_tripdata_2022-02.parquet')\n",
    "df3=pd.read_parquet('yellow_tripdata_2022-03.parquet')\n",
    "df4=pd.read_parquet('yellow_tripdata_2022-04.parquet')\n",
    "df5=pd.read_parquet('yellow_tripdata_2022-05.parquet')\n",
    "df6=pd.read_parquet('yellow_tripdata_2022-06.parquet')\n",
    "\n",
    "data=pd.concat([df1.sample(121553) ,df2.sample(121553) ,df3.sample(121553) ,df4.sample(121553) ,df5.sample(121553) ,df6.sample(121553)  ])"
   ]
  },
  {
   "cell_type": "markdown",
   "id": "2ef6622d",
   "metadata": {},
   "source": [
    "Reading the data from praquet files for the months of January to June"
   ]
  },
  {
   "cell_type": "code",
   "execution_count": null,
   "id": "ab17b177",
   "metadata": {},
   "outputs": [],
   "source": [
    "data"
   ]
  },
  {
   "cell_type": "markdown",
   "id": "9f006915",
   "metadata": {},
   "source": [
    "### Data preprocessing/Munging"
   ]
  },
  {
   "cell_type": "code",
   "execution_count": null,
   "id": "a93dccf8",
   "metadata": {},
   "outputs": [],
   "source": [
    "\n",
    "data = data.reset_index()"
   ]
  },
  {
   "cell_type": "code",
   "execution_count": null,
   "id": "59748c74",
   "metadata": {
    "scrolled": true
   },
   "outputs": [],
   "source": [
    "data"
   ]
  },
  {
   "cell_type": "code",
   "execution_count": null,
   "id": "7015def6",
   "metadata": {},
   "outputs": [],
   "source": [
    "data=data.drop(labels=['index'],axis=1)"
   ]
  },
  {
   "cell_type": "code",
   "execution_count": null,
   "id": "ceec73e8",
   "metadata": {},
   "outputs": [],
   "source": [
    "data"
   ]
  },
  {
   "cell_type": "markdown",
   "id": "cab0689e",
   "metadata": {},
   "source": [
    "Read another dataset that contains NYC Taxi Zones"
   ]
  },
  {
   "cell_type": "code",
   "execution_count": null,
   "id": "68e9f2dd",
   "metadata": {},
   "outputs": [],
   "source": [
    "df=pd.read_csv(\"taxi_zones.csv\")"
   ]
  },
  {
   "cell_type": "code",
   "execution_count": null,
   "id": "5ed37f31",
   "metadata": {},
   "outputs": [],
   "source": [
    "df"
   ]
  },
  {
   "cell_type": "code",
   "execution_count": null,
   "id": "a3b5d53d",
   "metadata": {},
   "outputs": [],
   "source": [
    "from geopy.geocoders import ArcGIS\n",
    "import folium as f"
   ]
  },
  {
   "cell_type": "code",
   "execution_count": null,
   "id": "f4ad909a",
   "metadata": {},
   "outputs": [],
   "source": [
    "\n",
    "loc=ArcGIS()"
   ]
  },
  {
   "cell_type": "code",
   "execution_count": null,
   "id": "f752a78f",
   "metadata": {},
   "outputs": [],
   "source": [
    "nyc=loc.geocode(\"New York\") "
   ]
  },
  {
   "cell_type": "markdown",
   "id": "47aac5c4",
   "metadata": {},
   "source": [
    "Using geopy.geocoders we fetch the geocodes of New York"
   ]
  },
  {
   "cell_type": "code",
   "execution_count": null,
   "id": "e4102e5d",
   "metadata": {},
   "outputs": [],
   "source": [
    "print(nyc.latitude)\n",
    "print(nyc.longitude)"
   ]
  },
  {
   "cell_type": "markdown",
   "id": "4e4fe56a",
   "metadata": {},
   "source": [
    "Above is the latitude and longitude of New York"
   ]
  },
  {
   "cell_type": "code",
   "execution_count": null,
   "id": "64f1d2bf",
   "metadata": {},
   "outputs": [],
   "source": [
    "# data =df['zone'].sample(50)\n",
    "#data.apply(loc.geocode)"
   ]
  },
  {
   "cell_type": "code",
   "execution_count": null,
   "id": "6af590fb",
   "metadata": {},
   "outputs": [],
   "source": [
    "df[\"Location\"]=df[\"zone\"].apply(loc.geocode)"
   ]
  },
  {
   "cell_type": "markdown",
   "id": "8daa8f4f",
   "metadata": {},
   "source": [
    "Apply geocode to our datasets 'data' and 'zone'"
   ]
  },
  {
   "cell_type": "code",
   "execution_count": null,
   "id": "8d5169ba",
   "metadata": {},
   "outputs": [],
   "source": [
    "df[\"longitude\"]=df[\"Location\"].apply(lambda x: x.longitude)\n",
    "df[\"latitude\"]=df[\"Location\"].apply(lambda x: x.latitude)"
   ]
  },
  {
   "cell_type": "markdown",
   "id": "07bcde0d",
   "metadata": {},
   "source": [
    "Seperating longitude and latitude from location column"
   ]
  },
  {
   "cell_type": "code",
   "execution_count": null,
   "id": "60ce9b89",
   "metadata": {},
   "outputs": [],
   "source": [
    "df"
   ]
  },
  {
   "cell_type": "code",
   "execution_count": null,
   "id": "7a61538f",
   "metadata": {},
   "outputs": [],
   "source": [
    "df=df.drop(columns=[\"OBJECTID\",\"Shape_Leng\",\"the_geom\",\"Shape_Area\",\"borough\",\"Location\"])\n",
    "df"
   ]
  },
  {
   "cell_type": "markdown",
   "id": "ee869bd0",
   "metadata": {},
   "source": [
    "Drop not so important columns"
   ]
  },
  {
   "cell_type": "code",
   "execution_count": null,
   "id": "4dcf6d24",
   "metadata": {},
   "outputs": [],
   "source": [
    "data"
   ]
  },
  {
   "cell_type": "code",
   "execution_count": null,
   "id": "4ce711bf",
   "metadata": {},
   "outputs": [],
   "source": [
    "data1=data.merge(df, left_on='PULocationID',right_on='LocationID')\n",
    "data1"
   ]
  },
  {
   "cell_type": "markdown",
   "id": "9bd2a611",
   "metadata": {},
   "source": [
    "Merging two datasets to make as one whole dataset"
   ]
  },
  {
   "cell_type": "code",
   "execution_count": null,
   "id": "5a72f318",
   "metadata": {},
   "outputs": [],
   "source": [
    "data1 = data1.rename(columns={'longitude': 'pickup_longitude', 'latitude': 'pickup_latitude'})\n"
   ]
  },
  {
   "cell_type": "code",
   "execution_count": null,
   "id": "ff8574ba",
   "metadata": {},
   "outputs": [],
   "source": [
    "data1=data1.drop(['LocationID','zone'],axis=1)\n",
    "data1"
   ]
  },
  {
   "cell_type": "code",
   "execution_count": null,
   "id": "2a16d466",
   "metadata": {},
   "outputs": [],
   "source": [
    "data1=data1.merge(df, left_on='DOLocationID',right_on='LocationID')\n"
   ]
  },
  {
   "cell_type": "code",
   "execution_count": null,
   "id": "b1c1f048",
   "metadata": {},
   "outputs": [],
   "source": [
    "data1 = data1.rename(columns={'longitude': 'dropoff_longitude', 'latitude': 'dropoff_latitude'})\n",
    "data1=data1.drop('LocationID',axis=1)\n",
    "data1"
   ]
  },
  {
   "cell_type": "code",
   "execution_count": null,
   "id": "7652b5d4",
   "metadata": {},
   "outputs": [],
   "source": [
    "data1.to_csv(\"final_yellow_tripdata.csv\")"
   ]
  },
  {
   "cell_type": "markdown",
   "id": "3c55f2a2",
   "metadata": {},
   "source": [
    "converted parquet data to csv"
   ]
  },
  {
   "cell_type": "code",
   "execution_count": null,
   "id": "714ebadf",
   "metadata": {},
   "outputs": [],
   "source": [
    "dk_time = pd.to_datetime(data1[\"tpep_dropoff_datetime\"]);\n",
    "pk_time = pd.to_datetime(data1[\"tpep_pickup_datetime\"]);\n",
    "D=round(abs(dk_time - pk_time)/np.timedelta64(1,\"s\") / 60)\n",
    "\n",
    "data1[\"trip_duration\"]=D\n",
    "data1"
   ]
  },
  {
   "cell_type": "markdown",
   "id": "80f77776",
   "metadata": {},
   "source": [
    "Converting 'tpep_dropoff_datetime' and 'tpep_pickup_datetime' columns from string to date-time format.\n",
    "Also calculate 'trip_duration' based on pickup and dropoff time"
   ]
  },
  {
   "cell_type": "code",
   "execution_count": null,
   "id": "dc64f6c3",
   "metadata": {},
   "outputs": [],
   "source": [
    "df=data1.sample(300000)"
   ]
  },
  {
   "cell_type": "markdown",
   "id": "d79de247",
   "metadata": {},
   "source": [
    "Restricting data to 30000 rows for faster calculations"
   ]
  },
  {
   "cell_type": "code",
   "execution_count": null,
   "id": "4b9dc12c",
   "metadata": {},
   "outputs": [],
   "source": [
    "df.sample(20)    # print top view of data set "
   ]
  },
  {
   "cell_type": "code",
   "execution_count": null,
   "id": "90076b1f",
   "metadata": {},
   "outputs": [],
   "source": [
    "df.tail(20) #bottom view"
   ]
  },
  {
   "cell_type": "code",
   "execution_count": null,
   "id": "1c4db4e9",
   "metadata": {},
   "outputs": [],
   "source": []
  },
  {
   "cell_type": "code",
   "execution_count": null,
   "id": "693e04b3",
   "metadata": {},
   "outputs": [],
   "source": []
  },
  {
   "cell_type": "markdown",
   "id": "9661b6aa",
   "metadata": {},
   "source": [
    "Drop statasticaly unimportants columns"
   ]
  },
  {
   "cell_type": "code",
   "execution_count": null,
   "id": "6d2ea6d5",
   "metadata": {},
   "outputs": [],
   "source": [
    "df=df.drop(labels=['VendorID','RatecodeID','store_and_fwd_flag'],axis=1)"
   ]
  },
  {
   "cell_type": "code",
   "execution_count": null,
   "id": "ce818eb2",
   "metadata": {},
   "outputs": [],
   "source": [
    "df.columns  #columns overview"
   ]
  },
  {
   "cell_type": "code",
   "execution_count": null,
   "id": "f30f3898",
   "metadata": {},
   "outputs": [],
   "source": [
    "df.shape"
   ]
  },
  {
   "cell_type": "code",
   "execution_count": null,
   "id": "5103cf46",
   "metadata": {},
   "outputs": [],
   "source": [
    "df.isna().sum()     "
   ]
  },
  {
   "cell_type": "code",
   "execution_count": null,
   "id": "fa606ed8",
   "metadata": {},
   "outputs": [],
   "source": [
    "df=df.dropna()"
   ]
  },
  {
   "cell_type": "code",
   "execution_count": null,
   "id": "db4b46e5",
   "metadata": {},
   "outputs": [],
   "source": [
    "df.describe()    #statastical summary "
   ]
  },
  {
   "cell_type": "markdown",
   "id": "877be4e1",
   "metadata": {},
   "source": [
    "### Exploratory Data Analysis"
   ]
  },
  {
   "cell_type": "code",
   "execution_count": null,
   "id": "310581d9",
   "metadata": {},
   "outputs": [],
   "source": [
    "plt.figure(figsize=(10,10))                   #Analysis using heatmap\n",
    "sb.heatmap(df.corr(),annot=True,fmt='.1f')\n",
    "plt.show()"
   ]
  },
  {
   "cell_type": "markdown",
   "id": "7ba3e80f",
   "metadata": {},
   "source": [
    "Plot heat map to understand how the variables behave with each other. \n",
    "\n",
    "It is found that 'trip_duration' and 'fare_amount' are highly correlated. We remove 'fare_amount' to avoid multicollinearity."
   ]
  },
  {
   "cell_type": "code",
   "execution_count": null,
   "id": "f40a3276",
   "metadata": {},
   "outputs": [],
   "source": [
    "df=df.drop(labels=[\"fare_amount\"],axis=1)    #Removed the column due to high correlation"
   ]
  },
  {
   "cell_type": "markdown",
   "id": "f7a46fbb",
   "metadata": {},
   "source": [
    "\n",
    "**Multicollinearity** occurs when two or more independent variables(also known as predictors) are highly correlated with one another in a regression model. \n",
    "\n",
    "This means that an independent variable can be predicted from another independent variable in a regression model. In our use case, there is no multicollinearity\n"
   ]
  },
  {
   "cell_type": "code",
   "execution_count": null,
   "id": "7346d894",
   "metadata": {},
   "outputs": [],
   "source": [
    "plt.figure(figsize=(20,20))\n",
    "sb.heatmap(df.corr(),vmax=.3, center=0,\n",
    "            square=True, linewidths=.5, cbar_kws={\"shrink\": .5},annot=True)\n",
    "plt.tight_layout()\n",
    "plt.show()"
   ]
  },
  {
   "cell_type": "markdown",
   "id": "999b8cfd",
   "metadata": {},
   "source": [
    "Heat map after removing multicollinearity "
   ]
  },
  {
   "cell_type": "code",
   "execution_count": null,
   "id": "2ebc991f",
   "metadata": {},
   "outputs": [],
   "source": [
    "sb.distplot(df['trip_duration'], kde = True, bins = 5)   #Analysis of target colunmn"
   ]
  },
  {
   "cell_type": "code",
   "execution_count": null,
   "id": "81a66020",
   "metadata": {},
   "outputs": [],
   "source": [
    "sb.boxplot(x=\"passenger_count\", y=\"trip_duration\",data=df);\n",
    "plt.title(\"Average Trip Duration for Number of Passengers\");\n",
    "plt.xlabel(\"passenger_count\");\n",
    "plt.ylabel(\"Trip Duration\");"
   ]
  },
  {
   "cell_type": "markdown",
   "id": "42cda7e2",
   "metadata": {},
   "source": [
    "The plot for 'Average Trip Duration for Number of Passengers' shows more number of cab trips take place with less number of people on board generally with 1 or 2 passengers"
   ]
  },
  {
   "cell_type": "code",
   "execution_count": null,
   "id": "80b820d8-1669-4e7e-9d0a-529bd881b8b2",
   "metadata": {},
   "outputs": [],
   "source": [
    "sb.barplot(x=\"passenger_count\", y=\"trip_duration\",data=df);\n",
    "plt.title(\"Average Trip Duration for Number of Passengers\");\n",
    "plt.xlabel(\"passenger_count\");\n",
    "plt.ylabel(\"Trip Duration\");"
   ]
  },
  {
   "cell_type": "code",
   "execution_count": null,
   "id": "0c61cb22",
   "metadata": {},
   "outputs": [],
   "source": [
    "df['tpep_pickup_datetime']=pd.to_datetime(df[\"tpep_pickup_datetime\"])\n",
    "df['tpep_dropoff_datetime']=pd.to_datetime(df[\"tpep_dropoff_datetime\"])"
   ]
  },
  {
   "cell_type": "code",
   "execution_count": null,
   "id": "48c3d709",
   "metadata": {},
   "outputs": [],
   "source": [
    "print(type(df['tpep_pickup_datetime']))\n",
    "print(type(df['tpep_dropoff_datetime']))"
   ]
  },
  {
   "cell_type": "code",
   "execution_count": null,
   "id": "e1c8e797",
   "metadata": {},
   "outputs": [],
   "source": [
    "#Function to convert date-time features into date & time \n",
    "def convert_to_date_dtype(Dataframe,col):\n",
    "   \n",
    "    Dataframe[col] = pd.to_datetime(Dataframe[col], format= '%d-%m-%Y %H:%M')\n",
    "    Dataframe[col+'_day'] = Dataframe[col].dt.dayofweek\n",
    "    Dataframe[col+'_month'] = Dataframe[col].dt.month\n",
    "    Dataframe[col+'_hour'] = Dataframe[col].dt.hour\n",
    "    Dataframe[col+'_minute'] = Dataframe[col].dt.minute"
   ]
  },
  {
   "cell_type": "markdown",
   "id": "45738acc",
   "metadata": {},
   "source": [
    "Function to convert 'tpep_pickup_datetime' and 'tpep_dropoff_datetime' from object column to datetime column. We can confirm it in the below cell."
   ]
  },
  {
   "cell_type": "code",
   "execution_count": null,
   "id": "2e4cee77",
   "metadata": {},
   "outputs": [],
   "source": [
    "\n",
    "convert_to_date_dtype(df, 'tpep_pickup_datetime')\n",
    "convert_to_date_dtype(df, 'tpep_dropoff_datetime')\n",
    "\n",
    "df[['tpep_pickup_datetime', 'tpep_dropoff_datetime']].info()"
   ]
  },
  {
   "cell_type": "markdown",
   "id": "d46a673a",
   "metadata": {},
   "source": [
    "'tpep_pickup_datetime' and 'tpep_dropoff_datetime' columns are further divided into respective tpep_pickup_datetime_day, tpep_pickup_datetime_month, tpep_pickup_datetime_hour, tpep_pickup_datetime_minute columns and tpep_dropoff_datetime_day, tpep_dropoff_datetime_month, tpep_dropoff_datetime_hour, tpep_dropoff_datetime_minute columns for accurate prediction."
   ]
  },
  {
   "cell_type": "code",
   "execution_count": null,
   "id": "74fa43de",
   "metadata": {},
   "outputs": [],
   "source": [
    "\n",
    "df"
   ]
  },
  {
   "cell_type": "markdown",
   "id": "c456f1e8",
   "metadata": {},
   "source": [
    "Map for one pickup and dropoff location based on the latitude and longitude of New york"
   ]
  },
  {
   "cell_type": "code",
   "execution_count": null,
   "id": "bb41419e",
   "metadata": {
    "scrolled": true
   },
   "outputs": [],
   "source": [
    "map=f.Map(location=[40.71455000000003,-74.00713999999994])\n",
    "map.add_child(f.Marker(location=[40.71455000000003,-74.00713999999994])) #map view of New York city"
   ]
  },
  {
   "cell_type": "code",
   "execution_count": null,
   "id": "3f694c94",
   "metadata": {},
   "outputs": [],
   "source": [
    "import folium\n",
    "\n",
    "location = [40.730610, -73.935242]\n",
    "location2=[40.708469,-74.017120]\n",
    "\n",
    "map=folium.Map(location=location ,width=800,hight=400,zoom_start = 10,)\n"
   ]
  },
  {
   "cell_type": "markdown",
   "id": "a7f9776b",
   "metadata": {},
   "source": [
    "* Map view for Pickup Points"
   ]
  },
  {
   "cell_type": "code",
   "execution_count": null,
   "id": "b5747ac0",
   "metadata": {},
   "outputs": [],
   "source": [
    "pickup =df[[\"pickup_longitude\",'pickup_latitude']]\n",
    "pickup\n",
    "data = list(zip(pickup.pickup_latitude.values,\n",
    "                            pickup.pickup_longitude.values,\n",
    "                            ))\n",
    "type(data[0][0])"
   ]
  },
  {
   "cell_type": "code",
   "execution_count": null,
   "id": "4e80709e",
   "metadata": {},
   "outputs": [],
   "source": [
    "pickup = pd.DataFrame(data)\n",
    "pickup.head()"
   ]
  },
  {
   "cell_type": "code",
   "execution_count": null,
   "id": "029dca2d",
   "metadata": {},
   "outputs": [],
   "source": [
    "from folium.plugins import HeatMap    # import library heatmap\n",
    "pickup_map = folium.Map(location = location, zoom_start = 10,)\n",
    "\n",
    "hm_wide = HeatMap( pickup.values,\n",
    "                     min_opacity= 0.2,\n",
    "                     radius= 5, blur= 8,\n",
    "                     max_zoom= 1 \n",
    "                 )\n",
    "\n",
    "pickup_map.add_child(hm_wide)\n",
    "\n",
    "pickup_map"
   ]
  },
  {
   "cell_type": "markdown",
   "id": "b236987e",
   "metadata": {},
   "source": [
    "* Map view for Dropoff Points"
   ]
  },
  {
   "cell_type": "code",
   "execution_count": null,
   "id": "876efa3c",
   "metadata": {},
   "outputs": [],
   "source": [
    "dropoff = pd.DataFrame(data)\n",
    "dropoff=dropoff.dropna()\n",
    "dropoff.head()"
   ]
  },
  {
   "cell_type": "code",
   "execution_count": null,
   "id": "3cb3226a",
   "metadata": {},
   "outputs": [],
   "source": [
    "dropoff_map = f.Map(location = location, zoom_start = 10,)\n",
    "\n",
    "\n",
    "hm_wide = HeatMap( dropoff.values,\n",
    "                     min_opacity= 0.2,\n",
    "                     radius= 5, blur= 8,\n",
    "                     max_zoom= 1 \n",
    "                 )\n",
    "\n",
    "dropoff_map.add_child(hm_wide)\n",
    "\n",
    "dropoff_map"
   ]
  },
  {
   "cell_type": "markdown",
   "id": "5b00b838",
   "metadata": {},
   "source": [
    "The blue coloured saturation is for the different areas of New York for both pickup and dropoff  "
   ]
  },
  {
   "cell_type": "code",
   "execution_count": null,
   "id": "f64088ec",
   "metadata": {},
   "outputs": [],
   "source": [
    "df=df.drop(labels=[\"tpep_pickup_datetime\",\"tpep_dropoff_datetime\"],axis=1)  #Droping the columns"
   ]
  },
  {
   "cell_type": "code",
   "execution_count": null,
   "id": "1e1da36b",
   "metadata": {},
   "outputs": [],
   "source": [
    "df.info()  #Overview/Summary of Dataframe"
   ]
  },
  {
   "cell_type": "code",
   "execution_count": null,
   "id": "9672e230",
   "metadata": {},
   "outputs": [],
   "source": [
    "df.head()"
   ]
  },
  {
   "cell_type": "code",
   "execution_count": null,
   "id": "03ac90f6",
   "metadata": {},
   "outputs": [],
   "source": [
    "df['passenger_count'].value_counts()"
   ]
  },
  {
   "cell_type": "code",
   "execution_count": null,
   "id": "772d8317",
   "metadata": {},
   "outputs": [],
   "source": [
    "df['passenger_count'] = df['passenger_count'].fillna(1)"
   ]
  },
  {
   "cell_type": "code",
   "execution_count": null,
   "id": "99186d11",
   "metadata": {},
   "outputs": [],
   "source": [
    "df['passenger_count']"
   ]
  },
  {
   "cell_type": "code",
   "execution_count": null,
   "id": "19f4a25d",
   "metadata": {},
   "outputs": [],
   "source": [
    "df.isna().sum()"
   ]
  },
  {
   "cell_type": "code",
   "execution_count": null,
   "id": "be541ec5",
   "metadata": {},
   "outputs": [],
   "source": [
    "df[\"passenger_count\"].unique()   #cheking data element in the columns}"
   ]
  },
  {
   "cell_type": "code",
   "execution_count": null,
   "id": "46f42582",
   "metadata": {
    "scrolled": true
   },
   "outputs": [],
   "source": [
    "plt.figure(figsize=(16, 6)) \n",
    "plt.title('tpep_pickup_datetime_hour')\n",
    "plt.xlabel('Different Times of the Day')\n",
    "\n",
    "sb.countplot(x='tpep_pickup_datetime_hour', data=df, palette=(\"crest\"))\n"
   ]
  },
  {
   "cell_type": "code",
   "execution_count": null,
   "id": "9b3dbe7e",
   "metadata": {},
   "outputs": [],
   "source": [
    "plt.figure(figsize=(16, 6)) \n",
    "plt.title('hour')\n",
    "plt.xlabel('Different Times of the Day')\n",
    "\n",
    "sb.countplot(x='tpep_dropoff_datetime_hour', data=df, palette=(\"crest\"))\n"
   ]
  },
  {
   "cell_type": "markdown",
   "id": "5d13cb12",
   "metadata": {},
   "source": [
    "The graphs show count of passengers using the taxi at each hour of the day. It is clear that the city\n",
    "has high traffic from 8 am  to 11 pm as most people travel to work at these hours and traffic peaks at evening 5 pm to 7 pm."
   ]
  },
  {
   "cell_type": "code",
   "execution_count": null,
   "id": "3beb6093",
   "metadata": {},
   "outputs": [],
   "source": [
    "plt.figure(figsize=(16, 6)) \n",
    "plt.title('Pick-offs on Seven Days of a Week')\n",
    "plt.xlabel(\"Days of a Week\")\n",
    "\n",
    "sb.countplot(x='tpep_pickup_datetime_day', data=df, palette=(\"crest\"))\n"
   ]
  },
  {
   "cell_type": "code",
   "execution_count": null,
   "id": "8fb86b8b",
   "metadata": {},
   "outputs": [],
   "source": [
    "plt.figure(figsize=(16, 6)) \n",
    "plt.title('Drop-offs on Seven Days of a Week')\n",
    "plt.xlabel('Days of a  Week')\n",
    "\n",
    "sb.countplot(x='tpep_dropoff_datetime_day', data=df, palette=(\"crest\"))\n"
   ]
  },
  {
   "cell_type": "markdown",
   "id": "63b1fc0b",
   "metadata": {},
   "source": [
    "The graphs show how the traffic varies from weekdays to weekends\n",
    "0 - Sunday\n",
    "1 - Monday\n",
    "2 - Tuesday\n",
    "3 - Wednesday\n",
    "4 - Thursady\n",
    "5 - Friday\n",
    "6 - Saturday"
   ]
  },
  {
   "cell_type": "markdown",
   "id": "546da5ed",
   "metadata": {},
   "source": [
    "* Cheking outliers"
   ]
  },
  {
   "cell_type": "code",
   "execution_count": null,
   "id": "c9f38f20",
   "metadata": {},
   "outputs": [],
   "source": [
    "sb.boxplot(x=df[\"passenger_count\"])"
   ]
  },
  {
   "cell_type": "code",
   "execution_count": null,
   "id": "953b8f42",
   "metadata": {},
   "outputs": [],
   "source": [
    "sb.boxplot(x=df[\"trip_duration\"])"
   ]
  },
  {
   "cell_type": "code",
   "execution_count": null,
   "id": "78977afb",
   "metadata": {},
   "outputs": [],
   "source": [
    "df[\"trip_duration\"].value_counts()"
   ]
  },
  {
   "cell_type": "code",
   "execution_count": null,
   "id": "70f737bb",
   "metadata": {},
   "outputs": [],
   "source": [
    "sb.boxplot(x=df[\"tpep_pickup_datetime_day\"])"
   ]
  },
  {
   "cell_type": "code",
   "execution_count": null,
   "id": "bcec0399",
   "metadata": {},
   "outputs": [],
   "source": [
    "sb.boxplot(x=df[\"tpep_pickup_datetime_month\"])"
   ]
  },
  {
   "cell_type": "code",
   "execution_count": null,
   "id": "b381c03c",
   "metadata": {},
   "outputs": [],
   "source": [
    "sb.boxplot(x=df[\"tpep_pickup_datetime_hour\"])"
   ]
  },
  {
   "cell_type": "code",
   "execution_count": null,
   "id": "f0deae41",
   "metadata": {},
   "outputs": [],
   "source": [
    "sb.boxplot(x=df[\"tpep_pickup_datetime_minute\"])"
   ]
  },
  {
   "cell_type": "code",
   "execution_count": null,
   "id": "6d6b1153",
   "metadata": {},
   "outputs": [],
   "source": [
    "sb.boxplot(x=df[\"tpep_dropoff_datetime_day\"])"
   ]
  },
  {
   "cell_type": "code",
   "execution_count": null,
   "id": "41e69a31",
   "metadata": {},
   "outputs": [],
   "source": [
    "sb.boxplot(x=df[\"tpep_dropoff_datetime_month\"])"
   ]
  },
  {
   "cell_type": "code",
   "execution_count": null,
   "id": "a1b76975",
   "metadata": {},
   "outputs": [],
   "source": [
    "sb.boxplot(x=df[\"tpep_dropoff_datetime_hour\"])"
   ]
  },
  {
   "cell_type": "code",
   "execution_count": null,
   "id": "37faaf92",
   "metadata": {},
   "outputs": [],
   "source": [
    "sb.boxplot(x=df[\"tpep_dropoff_datetime_minute\"])"
   ]
  },
  {
   "cell_type": "code",
   "execution_count": null,
   "id": "d4320ac0",
   "metadata": {},
   "outputs": [],
   "source": [
    "sb.boxplot(x=df[\"pickup_longitude\"])"
   ]
  },
  {
   "cell_type": "code",
   "execution_count": null,
   "id": "9f548d41",
   "metadata": {},
   "outputs": [],
   "source": [
    "sb.boxplot(x=df[\"pickup_latitude\"])"
   ]
  },
  {
   "cell_type": "code",
   "execution_count": null,
   "id": "a5636026",
   "metadata": {},
   "outputs": [],
   "source": [
    "sb.boxplot(x=df[\"dropoff_latitude\"])"
   ]
  },
  {
   "cell_type": "code",
   "execution_count": null,
   "id": "31bd0ff9",
   "metadata": {},
   "outputs": [],
   "source": [
    "sb.boxplot(x=df[\"dropoff_longitude\"])"
   ]
  },
  {
   "cell_type": "code",
   "execution_count": null,
   "id": "067db22f",
   "metadata": {},
   "outputs": [],
   "source": [
    "df.columns"
   ]
  },
  {
   "cell_type": "code",
   "execution_count": null,
   "id": "275f0b72",
   "metadata": {},
   "outputs": [],
   "source": [
    "df=df.drop(labels=['trip_distance','PULocationID', 'DOLocationID',\n",
    "       'payment_type', 'extra', 'mta_tax', 'tip_amount', 'tolls_amount','total_amount',\n",
    "       'improvement_surcharge','congestion_surcharge',\n",
    "       'airport_fee'],axis=1)\n",
    "\n",
    "df"
   ]
  },
  {
   "cell_type": "code",
   "execution_count": null,
   "id": "450608f4",
   "metadata": {},
   "outputs": [],
   "source": [
    "df.skew()"
   ]
  },
  {
   "cell_type": "markdown",
   "id": "7f5f030e",
   "metadata": {},
   "source": [
    "skewness before outlier treatment"
   ]
  },
  {
   "cell_type": "code",
   "execution_count": null,
   "id": "4f8bcc77",
   "metadata": {},
   "outputs": [],
   "source": [
    "def outlier_detect(df):\n",
    "    for i in df.describe().columns:\n",
    "        Q1=df.describe().at['25%',i]\n",
    "        Q3=df.describe().at['75%',i]\n",
    "        IQR=Q3 - Q1\n",
    "        LTV=Q1 - 1.5 * IQR\n",
    "        UTV=Q3 + 1.5 * IQR\n",
    "        x=np.array(df[i])\n",
    "        p=[]\n",
    "        for j in x:\n",
    "            if j < LTV or j>UTV:\n",
    "                p.append(df[i].median())\n",
    "            else:\n",
    "                p.append(j)\n",
    "        df[i]=p\n",
    "    return df"
   ]
  },
  {
   "cell_type": "markdown",
   "id": "03dfcda9",
   "metadata": {},
   "source": [
    "Function for outlier removal : first we teke 25% data as Q1 and 75% data as Q3. Then we define Inter Quartile Range(IQR) as Q3-Q1. \n",
    "Then we define Lower Tube Values(LTV) and Upper Tube Values(UTV). "
   ]
  },
  {
   "cell_type": "code",
   "execution_count": null,
   "id": "05cd19a5",
   "metadata": {},
   "outputs": [],
   "source": [
    "new_df=outlier_detect(df)"
   ]
  },
  {
   "cell_type": "markdown",
   "id": "f56f63a3",
   "metadata": {},
   "source": [
    "New_df After removing outliers."
   ]
  },
  {
   "cell_type": "code",
   "execution_count": null,
   "id": "819941db",
   "metadata": {},
   "outputs": [],
   "source": [
    "new_df[[\"trip_duration\"]]"
   ]
  },
  {
   "cell_type": "code",
   "execution_count": null,
   "id": "e1805af2",
   "metadata": {},
   "outputs": [],
   "source": [
    "new_df[\"passenger_count\"].value_counts()"
   ]
  },
  {
   "cell_type": "code",
   "execution_count": null,
   "id": "744fcec7",
   "metadata": {},
   "outputs": [],
   "source": [
    "sb.boxplot(x=new_df[\"passenger_count\"])"
   ]
  },
  {
   "cell_type": "code",
   "execution_count": null,
   "id": "ae738031",
   "metadata": {},
   "outputs": [],
   "source": [
    "sb.boxplot(x=new_df[\"trip_duration\"])"
   ]
  },
  {
   "cell_type": "code",
   "execution_count": null,
   "id": "b1684a30",
   "metadata": {},
   "outputs": [],
   "source": [
    "sb.boxplot(x=new_df[\"tpep_pickup_datetime_month\"])"
   ]
  },
  {
   "cell_type": "code",
   "execution_count": null,
   "id": "8ea851fe",
   "metadata": {},
   "outputs": [],
   "source": [
    "sb.boxplot(x=new_df[\"tpep_pickup_datetime_day\"])"
   ]
  },
  {
   "cell_type": "code",
   "execution_count": null,
   "id": "a516c679",
   "metadata": {},
   "outputs": [],
   "source": [
    "sb.boxplot(x=new_df[\"tpep_pickup_datetime_hour\"])"
   ]
  },
  {
   "cell_type": "code",
   "execution_count": null,
   "id": "a05a9d8b",
   "metadata": {},
   "outputs": [],
   "source": [
    "sb.boxplot(x=new_df[\"tpep_pickup_datetime_minute\"])"
   ]
  },
  {
   "cell_type": "code",
   "execution_count": null,
   "id": "cc86511b",
   "metadata": {},
   "outputs": [],
   "source": [
    "sb.boxplot(x=new_df[\"tpep_dropoff_datetime_day\"])"
   ]
  },
  {
   "cell_type": "code",
   "execution_count": null,
   "id": "bf130dec",
   "metadata": {},
   "outputs": [],
   "source": [
    "sb.boxplot(x=new_df[\"tpep_dropoff_datetime_month\"])"
   ]
  },
  {
   "cell_type": "code",
   "execution_count": null,
   "id": "c9a5efde",
   "metadata": {},
   "outputs": [],
   "source": [
    "sb.boxplot(x=new_df[\"tpep_dropoff_datetime_hour\"])"
   ]
  },
  {
   "cell_type": "code",
   "execution_count": null,
   "id": "5ac63a68",
   "metadata": {},
   "outputs": [],
   "source": [
    "sb.boxplot(x=new_df[\"tpep_dropoff_datetime_minute\"])"
   ]
  },
  {
   "cell_type": "code",
   "execution_count": null,
   "id": "aa37c861",
   "metadata": {},
   "outputs": [],
   "source": [
    "sb.boxplot(x=df[\"pickup_longitude\"])"
   ]
  },
  {
   "cell_type": "code",
   "execution_count": null,
   "id": "fb0cae47",
   "metadata": {},
   "outputs": [],
   "source": [
    "sb.boxplot(x=df[\"pickup_latitude\"])"
   ]
  },
  {
   "cell_type": "code",
   "execution_count": null,
   "id": "570ebd80",
   "metadata": {},
   "outputs": [],
   "source": [
    "sb.boxplot(x=df[\"dropoff_longitude\"])"
   ]
  },
  {
   "cell_type": "code",
   "execution_count": null,
   "id": "dedd61fd",
   "metadata": {},
   "outputs": [],
   "source": [
    "sb.boxplot(x=df[\"dropoff_latitude\"])"
   ]
  },
  {
   "cell_type": "code",
   "execution_count": null,
   "id": "c87f7eb4",
   "metadata": {},
   "outputs": [],
   "source": [
    "# cheking skewness"
   ]
  },
  {
   "cell_type": "code",
   "execution_count": null,
   "id": "98df2f07",
   "metadata": {},
   "outputs": [],
   "source": [
    "# new_df.skew()\n",
    "new_df.skew()"
   ]
  },
  {
   "cell_type": "code",
   "execution_count": null,
   "id": "e9874233",
   "metadata": {},
   "outputs": [],
   "source": [
    "sb.distplot(new_df['passenger_count'], kde = True, bins = 5) "
   ]
  },
  {
   "cell_type": "code",
   "execution_count": null,
   "id": "ee226043",
   "metadata": {},
   "outputs": [],
   "source": [
    "# new_df.shape\n",
    "new_df.shape"
   ]
  },
  {
   "cell_type": "markdown",
   "id": "279d9f6b",
   "metadata": {},
   "source": [
    "Dividing columns into categorical and continious"
   ]
  },
  {
   "cell_type": "code",
   "execution_count": null,
   "id": "53e7b958",
   "metadata": {},
   "outputs": [],
   "source": [
    "cat=[]\n",
    "con=[]\n",
    "for i in new_df:\n",
    "    if(df[i].dtypes==\"object\"):\n",
    "        cat.append(i)\n",
    "    else:\n",
    "        con.append(i)"
   ]
  },
  {
   "cell_type": "code",
   "execution_count": null,
   "id": "17dfa8fa",
   "metadata": {},
   "outputs": [],
   "source": [
    "cat"
   ]
  },
  {
   "cell_type": "code",
   "execution_count": null,
   "id": "567c35fd",
   "metadata": {},
   "outputs": [],
   "source": [
    "new_df.head()"
   ]
  },
  {
   "cell_type": "code",
   "execution_count": null,
   "id": "e07eab46",
   "metadata": {},
   "outputs": [],
   "source": [
    "con"
   ]
  },
  {
   "cell_type": "markdown",
   "id": "a230922d",
   "metadata": {},
   "source": [
    "### Model Building"
   ]
  },
  {
   "cell_type": "code",
   "execution_count": null,
   "id": "7999dcf2",
   "metadata": {},
   "outputs": [],
   "source": [
    "Y=new_df[[\"trip_duration\"]]                    #Dependent Variable\n",
    "X=new_df.drop(labels=[\"trip_duration\",\"zone\"],axis=1)  #Independent Variables\n",
    "\n",
    "X.columns"
   ]
  },
  {
   "cell_type": "markdown",
   "id": "8542ea3e",
   "metadata": {},
   "source": [
    "### Standerdizing the Data \n",
    "\n",
    "\n",
    "Standardization is about making sure that data is internally consistant and each data type has same content and format so that all variables are contributing in prediction."
   ]
  },
  {
   "cell_type": "code",
   "execution_count": null,
   "id": "30a1b021",
   "metadata": {},
   "outputs": [],
   "source": [
    "from sklearn.preprocessing import StandardScaler\n",
    "sc=StandardScaler()\n",
    "Xnew=pd.DataFrame(sc.fit_transform(X))"
   ]
  },
  {
   "cell_type": "code",
   "execution_count": null,
   "id": "91beafa7",
   "metadata": {},
   "outputs": [],
   "source": [
    "Xnew "
   ]
  },
  {
   "cell_type": "code",
   "execution_count": null,
   "id": "fc2080a7",
   "metadata": {},
   "outputs": [],
   "source": [
    "Xnew.columns=['passenger_count', 'pickup_longitude', 'pickup_latitude',\n",
    "       'dropoff_longitude', 'dropoff_latitude', 'tpep_pickup_datetime_day',\n",
    "       'tpep_pickup_datetime_month', 'tpep_pickup_datetime_hour',\n",
    "       'tpep_pickup_datetime_minute', 'tpep_dropoff_datetime_day',\n",
    "       'tpep_dropoff_datetime_month', 'tpep_dropoff_datetime_hour',\n",
    "       'tpep_dropoff_datetime_minute']\n",
    "#Adding the colums name"
   ]
  },
  {
   "cell_type": "code",
   "execution_count": null,
   "id": "7beb51c3",
   "metadata": {},
   "outputs": [],
   "source": [
    "Xnew"
   ]
  },
  {
   "cell_type": "code",
   "execution_count": null,
   "id": "ef94bfac",
   "metadata": {},
   "outputs": [],
   "source": [
    "Xnew.columns   #columns overview"
   ]
  },
  {
   "cell_type": "markdown",
   "id": "ca35bf20",
   "metadata": {},
   "source": [
    "Spliting Data into training and testing set\n",
    "\n",
    "Split the data into training and testing as 67% and 33% respectively."
   ]
  },
  {
   "cell_type": "code",
   "execution_count": null,
   "id": "8df8ed6f",
   "metadata": {},
   "outputs": [],
   "source": [
    "from sklearn.model_selection import train_test_split\n",
    "xtrain,xtest,ytrain,ytest=train_test_split(Xnew,Y,test_size=0.33,random_state=21)"
   ]
  },
  {
   "cell_type": "code",
   "execution_count": null,
   "id": "46c5647c",
   "metadata": {},
   "outputs": [],
   "source": [
    "xtest"
   ]
  },
  {
   "cell_type": "code",
   "execution_count": null,
   "id": "39948ff8",
   "metadata": {},
   "outputs": [],
   "source": [
    "xtrain"
   ]
  },
  {
   "cell_type": "markdown",
   "id": "ad69e2fa",
   "metadata": {},
   "source": [
    "# Linear Regression"
   ]
  },
  {
   "cell_type": "code",
   "execution_count": null,
   "id": "886bd658",
   "metadata": {},
   "outputs": [],
   "source": [
    "from sklearn.linear_model import LinearRegression\n",
    "lr=LinearRegression()\n",
    "Model=lr.fit(xtrain,ytrain)\n",
    "pred_tr=Model.predict(xtrain)\n",
    "pred_ts=Model.predict(xtest)\n",
    "\n",
    "from sklearn.metrics import mean_absolute_error,mean_squared_error,r2_score,accuracy_score\n",
    "print('MAE:', mean_absolute_error(ytest, pred_ts))\n",
    "print('MSE:', mean_squared_error(ytest, pred_ts))\n",
    "print('RMSE:', np.sqrt(mean_squared_error(ytest, pred_ts)))\n",
    "print('R2', r2_score(ytest,pred_ts))"
   ]
  },
  {
   "cell_type": "code",
   "execution_count": null,
   "id": "06290edf",
   "metadata": {},
   "outputs": [],
   "source": [
    "# Visualize the performance of the model"
   ]
  },
  {
   "cell_type": "markdown",
   "id": "3fb04346",
   "metadata": {},
   "source": [
    "import matplotlib.pyplot as plt\n",
    "\n",
    "plt.plot(xtrain,pred_tr,color='r')\n",
    "plt.plot(X,Y,'b.')\n",
    "plt.xlabel(\"Xtrain\")\n",
    "plt.ylabel(\"pred_tr\")\n",
    "plt.show()"
   ]
  },
  {
   "cell_type": "markdown",
   "id": "786f3be1",
   "metadata": {},
   "source": [
    "# Regularization of the model"
   ]
  },
  {
   "cell_type": "markdown",
   "id": "3808fe2e",
   "metadata": {},
   "source": [
    "# Ridge"
   ]
  },
  {
   "cell_type": "code",
   "execution_count": null,
   "id": "9a59fee7",
   "metadata": {},
   "outputs": [],
   "source": [
    "tg = {\"alpha\":[0.991,0.992,0.993,0.994,0.995,0.996,0.997,0.998,0.999,1.001,1.002,1.003,1.004,1.005,1.006,1.007,1.008,1.009]}"
   ]
  },
  {
   "cell_type": "code",
   "execution_count": null,
   "id": "e594c5d1",
   "metadata": {},
   "outputs": [],
   "source": [
    "from sklearn.linear_model import Ridge,Lasso\n",
    "rr = Ridge()\n",
    "\n",
    "\n",
    "\n",
    "from sklearn.model_selection import GridSearchCV\n",
    "cv1 = GridSearchCV(rr,tg,scoring=\"neg_mean_absolute_error\",cv=4)\n",
    "cvmodel1 = cv1.fit(xtrain,ytrain)\n",
    "cvmodel1.best_params_"
   ]
  },
  {
   "cell_type": "code",
   "execution_count": null,
   "id": "e3ab1702",
   "metadata": {},
   "outputs": [],
   "source": [
    "rr = Ridge(alpha=1.009)\n",
    "\n",
    "model = rr.fit(xtrain,ytrain)\n",
    "\n",
    "pred_tr = model.predict(xtrain)\n",
    "pred_ts = model.predict(xtest)\n",
    "\n",
    "from sklearn.metrics import mean_absolute_error,mean_squared_error,r2_score,accuracy_score\n",
    "print('MAE:', mean_absolute_error(ytest, pred_ts))\n",
    "print('MSE:', mean_squared_error(ytest, pred_ts))\n",
    "print('RMSE:', np.sqrt(mean_squared_error(ytest, pred_ts)))\n",
    "print('R2', r2_score(ytest,pred_ts))\n"
   ]
  },
  {
   "cell_type": "markdown",
   "id": "d7499289",
   "metadata": {},
   "source": [
    "plt.plot(xtrain,pred_tr,color='r')\n",
    "plt.plot(X,Y,'b.')\n",
    "plt.xlabel(\"xtrain\")\n",
    "plt.ylabel(\"pred_tr\")\n",
    "plt.show()"
   ]
  },
  {
   "cell_type": "markdown",
   "id": "14075978",
   "metadata": {},
   "source": [
    "# Lasso"
   ]
  },
  {
   "cell_type": "code",
   "execution_count": null,
   "id": "3a752a6b",
   "metadata": {},
   "outputs": [],
   "source": [
    "ls = Lasso()\n",
    "from sklearn.model_selection import GridSearchCV\n",
    "cv2 = GridSearchCV(ls,tg,scoring=\"neg_mean_absolute_error\",cv=4)\n",
    "cvmodel2 = cv2.fit(xtrain,ytrain)\n",
    "cvmodel2.best_params_"
   ]
  },
  {
   "cell_type": "code",
   "execution_count": null,
   "id": "14b63a20",
   "metadata": {},
   "outputs": [],
   "source": [
    "\n",
    "ls = Lasso(alpha=1.009)\n",
    "\n",
    "model = ls.fit(xtrain,ytrain)\n",
    "\n",
    "pred_tr = model.predict(xtrain)\n",
    "pred_ts = model.predict(xtest)\n",
    "\n",
    "from sklearn.metrics import mean_absolute_error,mean_squared_error,r2_score,accuracy_score\n",
    "print('MAE:', mean_absolute_error(ytest, pred_ts))\n",
    "print('MSE:', mean_squared_error(ytest, pred_ts))\n",
    "print('RMSE:', np.sqrt(mean_squared_error(ytest, pred_ts)))\n",
    "print('R2', r2_score(ytest,pred_ts))\n"
   ]
  },
  {
   "cell_type": "markdown",
   "id": "3adf4bad",
   "metadata": {},
   "source": [
    "plt.plot(xtrain,pred_tr,color='r')\n",
    "plt.plot(X,Y,'b.')\n",
    "plt.xlabel(\"xtrain\")\n",
    "plt.ylabel(\"pred_tr\")\n",
    "plt.show()"
   ]
  },
  {
   "cell_type": "markdown",
   "id": "ede2cd45",
   "metadata": {},
   "source": [
    "# Polynomial Regression"
   ]
  },
  {
   "cell_type": "code",
   "execution_count": null,
   "id": "b2620efb",
   "metadata": {},
   "outputs": [],
   "source": [
    "from sklearn.preprocessing import PolynomialFeatures  \n",
    "poly_regs= PolynomialFeatures(degree= 3)  \n",
    "xtrain_poly= poly_regs.fit_transform(xtrain)\n",
    "xtest_poly= poly_regs.fit_transform(xtest)\n",
    "lin_reg_2 =LinearRegression()  \n",
    "model=lin_reg_2.fit(xtrain_poly,ytrain)  \n",
    "pred_tr=model.predict(xtrain_poly)\n",
    "pred_ts=model.predict(xtest_poly)"
   ]
  },
  {
   "cell_type": "code",
   "execution_count": null,
   "id": "275c99f4",
   "metadata": {},
   "outputs": [],
   "source": [
    "from sklearn.metrics import mean_absolute_error,mean_squared_error\n",
    "print('MAE:', mean_absolute_error(ytest, pred_ts))\n",
    "print('MSE:', mean_squared_error(ytest, pred_ts))\n",
    "print('RMSE:', np.sqrt(mean_squared_error(ytest, pred_ts)))\n",
    "print('R2', r2_score(ytest,pred_ts))\n"
   ]
  },
  {
   "cell_type": "markdown",
   "id": "b0cf99eb",
   "metadata": {},
   "source": [
    "plt.plot(xtrain,pred_tr,color='r')\n",
    "plt.plot(X,Y,'b.')\n",
    "plt.xlabel(\"xtrain\")\n",
    "plt.ylabel(\"pred_tr\")\n",
    "plt.show()"
   ]
  },
  {
   "cell_type": "code",
   "execution_count": null,
   "id": "09dd436f",
   "metadata": {},
   "outputs": [],
   "source": [
    "lin_reg_2.score(xtest_poly,ytest)"
   ]
  },
  {
   "cell_type": "markdown",
   "id": "d6f9fee4",
   "metadata": {},
   "source": [
    "# Support Vector Regression"
   ]
  },
  {
   "cell_type": "code",
   "execution_count": null,
   "id": "47db6461",
   "metadata": {},
   "outputs": [],
   "source": [
    "# from sklearn.svm import SVR\n",
    "# svr = SVR(kernel = 'linear')\n",
    "# model=svr.fit(xtrain,ytrain)\n",
    "# pred_tr=model.predict(xtrain)\n",
    "# pred_ts=model.predict(xtest)\n",
    "# #\n",
    "# from sklearn.metrics import mean_absolute_error,mean_squared_error\n",
    "# print('MAE:', mean_absolute_error(ytest, pred_ts))\n",
    "# print('MSE:', mean_squared_error(ytest, pred_ts))\n",
    "# print('RMSE:', np.sqrt(mean_squared_error(ytest, pred_ts)))\n",
    "# print('R2', r2_score(ytest,pred_ts))\n",
    "# print(\"------------------------------------------------\")\n",
    "# tr_err=mean_absolute_error(ytrain,pred_tr)\n",
    "# ts_err=mean_absolute_error(ytest,pred_ts)\n",
    "# print(\"Training error=\",tr_err)\n",
    "# print(\"Testing error=\",ts_err)\n",
    "# print(\"-------------------------------------------------\")\n",
    "\n",
    "# if(tr_err<ts_err):\n",
    "#     print(\"model is overfited\")\n",
    "# else:\n",
    "#     print(\"model is underfited\")"
   ]
  },
  {
   "cell_type": "code",
   "execution_count": null,
   "id": "2f29c382",
   "metadata": {},
   "outputs": [],
   "source": [
    "# plt.plot(xtrain,pred_tr,color='r')\n",
    "# plt.plot(X,Y,'b.')\n",
    "# plt.xlabel(\"xtrain\")\n",
    "# plt.ylabel(\"pred_tr\")\n",
    "# plt.show()"
   ]
  },
  {
   "cell_type": "markdown",
   "id": "aedd849c",
   "metadata": {},
   "source": [
    "# Knn Regression"
   ]
  },
  {
   "cell_type": "code",
   "execution_count": null,
   "id": "59f10c1b",
   "metadata": {},
   "outputs": [],
   "source": [
    "from sklearn.neighbors import KNeighborsRegressor\n",
    "knr = KNeighborsRegressor(n_neighbors=5)\n",
    "model = knr.fit(xtrain,ytrain)\n",
    "pred = model.predict(xtest)\n",
    "from sklearn.metrics import mean_absolute_error,mean_squared_error\n",
    "print('MAE:', mean_absolute_error(ytest, pred_ts))\n",
    "print('MSE:', mean_squared_error(ytest, pred_ts))\n",
    "print('RMSE:', np.sqrt(mean_squared_error(ytest, pred_ts)))\n",
    "print('R2', r2_score(ytest,pred_ts))\n"
   ]
  },
  {
   "cell_type": "markdown",
   "id": "b23d1070",
   "metadata": {},
   "source": [
    "# Hyperparameter tuning for KNeighborsRegressor"
   ]
  },
  {
   "cell_type": "code",
   "execution_count": null,
   "id": "bf8aaa69",
   "metadata": {},
   "outputs": [],
   "source": [
    "for i in range(2,10,1):\n",
    "    from sklearn.neighbors import KNeighborsRegressor\n",
    "    knr = KNeighborsRegressor(n_neighbors=i)\n",
    "    model = knr.fit(xtrain,ytrain)\n",
    "    pred = model.predict(xtest)\n",
    "    \n",
    "    from sklearn.metrics import mean_absolute_error\n",
    "    print(i,mean_absolute_error(ytest,pred))"
   ]
  },
  {
   "cell_type": "markdown",
   "id": "3f666c4c",
   "metadata": {},
   "source": [
    "plt.plot(xtrain,pred_tr,color='r')\n",
    "plt.plot(X,Y,'b.')\n",
    "plt.xlabel(\"xtrain\")\n",
    "plt.ylabel(\"pred_tr\")\n",
    "plt.show()"
   ]
  },
  {
   "cell_type": "markdown",
   "id": "b0305163",
   "metadata": {},
   "source": [
    "# Decision Tree"
   ]
  },
  {
   "cell_type": "code",
   "execution_count": null,
   "id": "909a9353",
   "metadata": {},
   "outputs": [],
   "source": [
    "from sklearn.tree import DecisionTreeRegressor\n",
    "dtr=DecisionTreeRegressor(max_depth=10,random_state=10)\n",
    "Model=dtr.fit(xtrain,ytrain)\n",
    "pred_tr=Model.predict(xtrain)\n",
    "pred_ts=Model.predict(xtest)\n",
    "\n",
    "from sklearn.metrics import mean_absolute_error,accuracy_score,r2_score,mean_squared_error\n",
    "print('MAE:', mean_absolute_error(ytest, pred_ts))\n",
    "print('MSE:', mean_squared_error(ytest, pred_ts))\n",
    "print('RMSE:', np.sqrt(mean_squared_error(ytest, pred_ts)))\n",
    "print('R2', r2_score(ytest,pred_ts))\n"
   ]
  },
  {
   "cell_type": "markdown",
   "id": "c38caca9",
   "metadata": {},
   "source": [
    "plt.plot(xtrain,pred_tr,color='r')\n",
    "plt.plot(X,Y,'b.')\n",
    "plt.xlabel(\"xtrain\")\n",
    "plt.ylabel(\"pred_tr\")\n",
    "plt.show()"
   ]
  },
  {
   "cell_type": "code",
   "execution_count": null,
   "id": "ad5397ef",
   "metadata": {},
   "outputs": [],
   "source": [
    "# pip install graphviz"
   ]
  },
  {
   "cell_type": "code",
   "execution_count": null,
   "id": "767059bd",
   "metadata": {},
   "outputs": [],
   "source": [
    "from graphviz import *\n",
    "from sklearn.tree import DecisionTreeClassifier, plot_tree\n",
    "fig, axes = plt.subplots(nrows = 1,ncols = 1,figsize = (4,4), dpi=300)\n",
    "plot_tree(dtr,\n",
    "               feature_names = xtrain.columns,\n",
    "               class_names=new_df.trip_duration,\n",
    "               filled = True);\n",
    "fig.savefig('imagename.png')"
   ]
  },
  {
   "cell_type": "markdown",
   "id": "68d89280",
   "metadata": {},
   "source": [
    "# Random Forest"
   ]
  },
  {
   "cell_type": "code",
   "execution_count": null,
   "id": "20a53a8f",
   "metadata": {},
   "outputs": [],
   "source": [
    "from sklearn.ensemble import RandomForestRegressor\n",
    "rf=RandomForestRegressor(n_estimators=20,random_state=21)\n",
    "Model=rf.fit(xtrain,ytrain)\n",
    "pred=Model.predict(xtrain)\n",
    "pred_tr=Model.predict(xtrain)\n",
    "pred_ts=Model.predict(xtest)\n",
    "from sklearn.metrics import mean_absolute_error,accuracy_score,r2_score,mean_squared_error\n",
    "print('MAE:', mean_absolute_error(ytest, pred_ts))\n",
    "print('MSE:', mean_squared_error(ytest, pred_ts))\n",
    "print('RMSE:', np.sqrt(mean_squared_error(ytest, pred_ts)))\n",
    "print('R2', r2_score(ytest,pred_ts))\n"
   ]
  },
  {
   "cell_type": "markdown",
   "id": "f7a62010",
   "metadata": {},
   "source": [
    "We have MAE as 2.488 and RMSE as 3.799.R2 score is 0.7472 which is close to 1. Thus we can say that the model is predicting with minimal errors and good accuracy."
   ]
  },
  {
   "cell_type": "markdown",
   "id": "8313c8a5",
   "metadata": {},
   "source": [
    "# Adaboost Regressor"
   ]
  },
  {
   "cell_type": "code",
   "execution_count": null,
   "id": "e32a7dd4",
   "metadata": {},
   "outputs": [],
   "source": [
    "from sklearn.ensemble import AdaBoostRegressor\n",
    "adb=AdaBoostRegressor(DecisionTreeRegressor(max_depth=20),n_estimators=500,learning_rate=0.1,random_state=21)\n",
    "model=adb.fit(xtrain,ytrain)\n",
    "pred_tr=Model.predict(xtrain)\n",
    "pred_ts=Model.predict(xtest)\n",
    "from sklearn.metrics import mean_absolute_error,accuracy_score,r2_score,mean_squared_error\n",
    "print('MAE:', mean_absolute_error(ytest, pred_ts))\n",
    "print('MSE:', mean_squared_error(ytest, pred_ts))\n",
    "print('RMSE:', np.sqrt(mean_squared_error(ytest, pred_ts)))\n",
    "print('R2', r2_score(ytest,pred_ts))\n"
   ]
  },
  {
   "cell_type": "code",
   "execution_count": null,
   "id": "e02fdcc9",
   "metadata": {},
   "outputs": [],
   "source": [
    "pred_tr"
   ]
  },
  {
   "cell_type": "markdown",
   "id": "9ee8e624",
   "metadata": {},
   "source": [
    "# XGboost"
   ]
  },
  {
   "cell_type": "code",
   "execution_count": null,
   "id": "f0ed7976",
   "metadata": {},
   "outputs": [],
   "source": [
    "#pip install xgboost"
   ]
  },
  {
   "cell_type": "code",
   "execution_count": null,
   "id": "bf81df52",
   "metadata": {},
   "outputs": [],
   "source": [
    "from xgboost import XGBRegressor #XGboostgressor\n",
    "xgbr=XGBRegressor()\n",
    "model=xgbr.fit(xtrain,ytrain)\n"
   ]
  },
  {
   "cell_type": "code",
   "execution_count": null,
   "id": "c43510da",
   "metadata": {},
   "outputs": [],
   "source": [
    "pred_tr1=Model.predict(xtrain)\n",
    "pred_ts1=Model.predict(xtest)\n",
    "from sklearn.metrics import mean_absolute_error,accuracy_score,r2_score,mean_squared_error\n",
    "print('MAE:', mean_absolute_error(ytest, pred_ts1))\n",
    "print('MSE:', mean_squared_error(ytest, pred_ts1))\n",
    "print('RMSE:', np.sqrt(mean_squared_error(ytest, pred_ts1)))\n",
    "print('R2', r2_score(ytest,pred_ts1))\n"
   ]
  },
  {
   "cell_type": "markdown",
   "id": "2b8be36d",
   "metadata": {},
   "source": [
    "\n",
    "# BayesianRidge"
   ]
  },
  {
   "cell_type": "code",
   "execution_count": null,
   "id": "d7870774",
   "metadata": {},
   "outputs": [],
   "source": [
    "from sklearn.linear_model import BayesianRidge\n",
    "bysn=BayesianRidge()\n",
    "model=bysn.fit(xtrain,ytrain)\n",
    "pred_tr1=Model.predict(xtrain)\n",
    "pred_ts1=Model.predict(xtest)\n",
    "from sklearn.metrics import mean_absolute_error,accuracy_score,r2_score,mean_squared_error\n",
    "print('MAE:', mean_absolute_error(ytest, pred_ts1))\n",
    "print('MSE:', mean_squared_error(ytest, pred_ts1))\n",
    "print('RMSE:', np.sqrt(mean_squared_error(ytest, pred_ts1)))\n",
    "print('R2', r2_score(ytest,pred_ts1))\n"
   ]
  },
  {
   "cell_type": "code",
   "execution_count": null,
   "id": "eba8c2a4",
   "metadata": {},
   "outputs": [],
   "source": [
    "ytest"
   ]
  },
  {
   "cell_type": "code",
   "execution_count": null,
   "id": "a6c7c748",
   "metadata": {},
   "outputs": [],
   "source": [
    "ytest.value_counts()"
   ]
  },
  {
   "cell_type": "code",
   "execution_count": null,
   "id": "d8c8322c",
   "metadata": {},
   "outputs": [],
   "source": [
    "pred_ts1"
   ]
  },
  {
   "cell_type": "markdown",
   "id": "0e37e110",
   "metadata": {},
   "source": [
    "### create a model pickle file"
   ]
  },
  {
   "cell_type": "code",
   "execution_count": null,
   "id": "cb85c9ca",
   "metadata": {},
   "outputs": [],
   "source": [
    "# Random Forest_model\n",
    "# pickle.dump(rf, open('r_model.pkl', 'wb'))\n",
    "import pickle\n",
    "pickle.dump(rf, open('R_model.pkl', 'wb'))"
   ]
  },
  {
   "cell_type": "markdown",
   "id": "28183c9b",
   "metadata": {},
   "source": [
    " Unique values columns"
   ]
  },
  {
   "cell_type": "code",
   "execution_count": null,
   "id": "bafedf05",
   "metadata": {},
   "outputs": [],
   "source": [
    "fdf=pd.read_csv(\"final_yellow_tripdata.csv\")\n",
    "fdf"
   ]
  },
  {
   "cell_type": "code",
   "execution_count": null,
   "id": "35ec415f",
   "metadata": {},
   "outputs": [],
   "source": [
    "pickup_longitude=pd.DataFrame(fdf.pickup_longitude.unique())\n",
    "pickup_longitude.columns=[\"pickup_longitude\"]\n",
    "pickup_longitude.to_csv('final_taxi_data_pickup_longitude.csv')\n",
    "pickup_longitude.head()"
   ]
  },
  {
   "cell_type": "code",
   "execution_count": null,
   "id": "6396e077",
   "metadata": {},
   "outputs": [],
   "source": [
    "pickup_latitude=pd.DataFrame(fdf.pickup_latitude.unique())\n",
    "pickup_latitude.columns=[\"pickup_latitude\"]\n",
    "pickup_latitude.to_csv('final_taxi_data_pickup_latitude.csv')\n",
    "pickup_latitude.head()"
   ]
  },
  {
   "cell_type": "code",
   "execution_count": null,
   "id": "fc2e2f54",
   "metadata": {},
   "outputs": [],
   "source": [
    "dropoff_longitude=pd.DataFrame(df.dropoff_longitude.unique())\n",
    "dropoff_longitude.columns=[\"dropoff_longitude\"]\n",
    "dropoff_longitude.to_csv('final_taxi_data_dropoff_longitude.csv')\n",
    "dropoff_longitude.head()"
   ]
  },
  {
   "cell_type": "code",
   "execution_count": null,
   "id": "5e9c04de",
   "metadata": {},
   "outputs": [],
   "source": [
    "dropoff_latitude=pd.DataFrame(df.dropoff_latitude.unique())\n",
    "dropoff_latitude.columns=[\"dropoff_latitude\"]\n",
    "dropoff_latitude.to_csv('final_taxi_data_dropoff_latitude.csv')\n",
    "dropoff_latitude.head()"
   ]
  },
  {
   "cell_type": "code",
   "execution_count": null,
   "id": "5551bbb1",
   "metadata": {},
   "outputs": [],
   "source": [
    "C=pd.DataFrame(data['tpep_dropoff_datetime'].dt.time)\n",
    "C=C.sort_values(by='tpep_dropoff_datetime',ascending=True)\n",
    "C['tpep_dropoff_datetime']=A['tpep_dropoff_datetime'].apply(lambda t: t.replace(second=0))\n",
    "\n",
    "D=( C.sort_values('tpep_dropoff_datetime')\n",
    "    .drop_duplicates('tpep_dropoff_datetime',keep = 'first')\n",
    "    .reset_index(drop=True)\n",
    "    .assign(a = lambda x: x.index + 1) )\n",
    "\n",
    "D=pd.DataFrame(B['tpep_dropoff_datetime'])\n",
    "\n",
    "D.to_csv(\"dk_time.csv\")\n",
    "D"
   ]
  },
  {
   "cell_type": "code",
   "execution_count": null,
   "id": "11d1703f",
   "metadata": {},
   "outputs": [],
   "source": []
  }
 ],
 "metadata": {
  "kernelspec": {
   "display_name": "Python 3 (ipykernel)",
   "language": "python",
   "name": "python3"
  },
  "language_info": {
   "codemirror_mode": {
    "name": "ipython",
    "version": 3
   },
   "file_extension": ".py",
   "mimetype": "text/x-python",
   "name": "python",
   "nbconvert_exporter": "python",
   "pygments_lexer": "ipython3",
   "version": "3.9.12"
  }
 },
 "nbformat": 4,
 "nbformat_minor": 5
}
